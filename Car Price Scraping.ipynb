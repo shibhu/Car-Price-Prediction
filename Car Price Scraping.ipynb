{
 "cells": [
  {
   "cell_type": "code",
   "execution_count": 1,
   "metadata": {},
   "outputs": [],
   "source": [
    "import selenium\n",
    "import pandas as pd\n",
    "from selenium import webdriver\n",
    "import time\n",
    "from selenium.common.exceptions import NoSuchElementException"
   ]
  },
  {
   "cell_type": "code",
   "execution_count": 25,
   "metadata": {},
   "outputs": [],
   "source": [
    "driver = webdriver.Chrome(r\"C:\\Users\\chawl\\Documents\\chromedriver_win32\\chromedriver.exe\")"
   ]
  },
  {
   "cell_type": "code",
   "execution_count": 16,
   "metadata": {},
   "outputs": [],
   "source": [
    "# opening the portal\n",
    "url = \"https://www.cardekho.com/usedCars\"\n",
    "driver.get(url)"
   ]
  },
  {
   "cell_type": "code",
   "execution_count": 17,
   "metadata": {},
   "outputs": [],
   "source": [
    "driver.refresh()\n",
    "driver.refresh()"
   ]
  },
  {
   "cell_type": "code",
   "execution_count": 18,
   "metadata": {},
   "outputs": [],
   "source": [
    "# fetching all the cities and links\n",
    "city_n=[]\n",
    "city_url=[]\n",
    "\n",
    "for i in range(1,13):\n",
    "    city_url.append(driver.find_element_by_xpath(\"//ul[@class='listing gsc_col-md-9 gsc_col-lg-9']/li[\"+str(i)+\"]/a\").get_attribute(\"href\"))\n",
    "    city_n.append(driver.find_element_by_xpath(\"//ul[@class='listing gsc_col-md-9 gsc_col-lg-9']/li[\"+str(i)+\"]/a\").get_attribute(\"title\"))"
   ]
  },
  {
   "cell_type": "code",
   "execution_count": 19,
   "metadata": {},
   "outputs": [
    {
     "data": {
      "text/plain": [
       "['Used cars in  Ahmedabad',\n",
       " 'Used cars in  Bangalore',\n",
       " 'Used cars in  Chennai',\n",
       " 'Used cars in  Delhi NCR',\n",
       " 'Used cars in  Gurgaon',\n",
       " 'Used cars in  Hyderabad',\n",
       " 'Used cars in  Jaipur',\n",
       " 'Used cars in  Kolkata',\n",
       " 'Used cars in  Mumbai',\n",
       " 'Used cars in  New Delhi',\n",
       " 'Used cars in  Noida',\n",
       " 'Used cars in  Pune']"
      ]
     },
     "execution_count": 19,
     "metadata": {},
     "output_type": "execute_result"
    }
   ],
   "source": [
    "city_n"
   ]
  },
  {
   "cell_type": "code",
   "execution_count": 20,
   "metadata": {},
   "outputs": [
    {
     "data": {
      "text/plain": [
       "['https://www.cardekho.com/used-cars+in+ahmedabad',\n",
       " 'https://www.cardekho.com/used-cars+in+bangalore',\n",
       " 'https://www.cardekho.com/used-cars+in+chennai',\n",
       " 'https://www.cardekho.com/used-cars+in+delhi-ncr',\n",
       " 'https://www.cardekho.com/used-cars+in+gurgaon',\n",
       " 'https://www.cardekho.com/used-cars+in+hyderabad',\n",
       " 'https://www.cardekho.com/used-cars+in+jaipur',\n",
       " 'https://www.cardekho.com/used-cars+in+kolkata',\n",
       " 'https://www.cardekho.com/used-cars+in+mumbai',\n",
       " 'https://www.cardekho.com/used-cars+in+new-delhi',\n",
       " 'https://www.cardekho.com/used-cars+in+noida',\n",
       " 'https://www.cardekho.com/used-cars+in+pune']"
      ]
     },
     "execution_count": 20,
     "metadata": {},
     "output_type": "execute_result"
    }
   ],
   "source": [
    "city_url"
   ]
  },
  {
   "cell_type": "code",
   "execution_count": 9,
   "metadata": {},
   "outputs": [],
   "source": [
    "from selenium.webdriver.common.action_chains import ActionChains"
   ]
  },
  {
   "cell_type": "code",
   "execution_count": null,
   "metadata": {},
   "outputs": [],
   "source": [
    "# Scrolling till the end to load the data and get the urls fo all cities"
   ]
  },
  {
   "cell_type": "code",
   "execution_count": 24,
   "metadata": {},
   "outputs": [],
   "source": [
    "co=0\n",
    "urls=[]\n",
    "note={}\n",
    "for i in city_url:\n",
    "    cars_urls=[]\n",
    "    driver.get(str(i))\n",
    "    count=0\n",
    "    while(count<350):\n",
    "        driver.execute_script(\"window.scrollBy(0, 50)\")\n",
    "        count+=1\n",
    "        time.sleep(1)\n",
    "        try:\n",
    "            driver.find_element_by_xpath(\"//span[@class='show']\")\n",
    "            break\n",
    "        except:\n",
    "            continue\n",
    "    url=driver.find_elements_by_xpath(\"//div[@class='gsc_col-xs-7 carsName']/a\")\n",
    "    for i in url:\n",
    "        urls.append(i.get_attribute(\"href\"))\n",
    "    note[city_n[co]]=len(url)\n",
    "    co+=1"
   ]
  },
  {
   "cell_type": "code",
   "execution_count": 26,
   "metadata": {},
   "outputs": [
    {
     "data": {
      "text/plain": [
       "{'Used cars in  Ahmedabad': 1443,\n",
       " 'Used cars in  Bangalore': 2786,\n",
       " 'Used cars in  Chennai': 1401}"
      ]
     },
     "execution_count": 26,
     "metadata": {},
     "output_type": "execute_result"
    }
   ],
   "source": [
    "note"
   ]
  },
  {
   "cell_type": "code",
   "execution_count": 31,
   "metadata": {},
   "outputs": [],
   "source": [
    "key = note.keys()\n",
    "val = note.values()\n",
    "df = pd.DataFrame({'city':key,\n",
    "                 'val':val})"
   ]
  },
  {
   "cell_type": "code",
   "execution_count": 32,
   "metadata": {},
   "outputs": [
    {
     "data": {
      "text/html": [
       "<div>\n",
       "<style scoped>\n",
       "    .dataframe tbody tr th:only-of-type {\n",
       "        vertical-align: middle;\n",
       "    }\n",
       "\n",
       "    .dataframe tbody tr th {\n",
       "        vertical-align: top;\n",
       "    }\n",
       "\n",
       "    .dataframe thead th {\n",
       "        text-align: right;\n",
       "    }\n",
       "</style>\n",
       "<table border=\"1\" class=\"dataframe\">\n",
       "  <thead>\n",
       "    <tr style=\"text-align: right;\">\n",
       "      <th></th>\n",
       "      <th>city</th>\n",
       "      <th>val</th>\n",
       "    </tr>\n",
       "  </thead>\n",
       "  <tbody>\n",
       "    <tr>\n",
       "      <th>0</th>\n",
       "      <td>Used cars in  Ahmedabad</td>\n",
       "      <td>1443</td>\n",
       "    </tr>\n",
       "    <tr>\n",
       "      <th>1</th>\n",
       "      <td>Used cars in  Bangalore</td>\n",
       "      <td>2786</td>\n",
       "    </tr>\n",
       "    <tr>\n",
       "      <th>2</th>\n",
       "      <td>Used cars in  Chennai</td>\n",
       "      <td>1401</td>\n",
       "    </tr>\n",
       "  </tbody>\n",
       "</table>\n",
       "</div>"
      ],
      "text/plain": [
       "                      city   val\n",
       "0  Used cars in  Ahmedabad  1443\n",
       "1  Used cars in  Bangalore  2786\n",
       "2    Used cars in  Chennai  1401"
      ]
     },
     "execution_count": 32,
     "metadata": {},
     "output_type": "execute_result"
    }
   ],
   "source": [
    "df"
   ]
  },
  {
   "cell_type": "code",
   "execution_count": 33,
   "metadata": {},
   "outputs": [],
   "source": [
    "df.to_csv(\"car_city_count.csv\")"
   ]
  },
  {
   "cell_type": "code",
   "execution_count": 34,
   "metadata": {},
   "outputs": [],
   "source": [
    "df = pd.DataFrame({'URLS':urls})"
   ]
  },
  {
   "cell_type": "code",
   "execution_count": 35,
   "metadata": {},
   "outputs": [],
   "source": [
    "df.to_csv(\"car_city_urls.csv\")"
   ]
  },
  {
   "cell_type": "code",
   "execution_count": 3,
   "metadata": {},
   "outputs": [],
   "source": [
    "dic={}\n",
    "dic['Ahmedabad'] = 1443\n",
    "dic['Bangalore'] = 2786\n",
    "dic['Chennai'] = 1401\n",
    "dic['Delhi NCR'] = 119\n",
    "dic['Gurgaon'] = 159\n",
    "dic['Hyderabad'] = 159\n",
    "dic['Jaipur'] = 1100\n",
    "dic['Kolkata'] = 160\n",
    "dic['Mumbai'] = 139\n",
    "dic['New Delhi'] = 139\n",
    "dic['Noida'] = 139\n",
    "dic['Pune'] = 160"
   ]
  },
  {
   "cell_type": "code",
   "execution_count": 4,
   "metadata": {},
   "outputs": [],
   "source": [
    "df= pd.read_csv(\"car_city_urls.csv\")"
   ]
  },
  {
   "cell_type": "code",
   "execution_count": 28,
   "metadata": {},
   "outputs": [],
   "source": [
    "myear=[]\n",
    "fuel=[]\n",
    "km=[]\n",
    "owner=[]\n",
    "transmission=[]\n",
    "brand=[]\n",
    "model=[]\n",
    "variant=[]\n",
    "price=[]\n",
    "city=[]\n"
   ]
  },
  {
   "cell_type": "code",
   "execution_count": null,
   "metadata": {},
   "outputs": [],
   "source": [
    "# scrapping all the data"
   ]
  },
  {
   "cell_type": "code",
   "execution_count": 29,
   "metadata": {},
   "outputs": [
    {
     "name": "stdout",
     "output_type": "stream",
     "text": [
      "\n"
     ]
    }
   ],
   "source": [
    "for i in urls:\n",
    "    driver.get(i)\n",
    "    time.sleep(1)\n",
    "    try:\n",
    "        myear.append(driver.find_element_by_xpath(\"//li[@class='gsc_col-xs-6 gsc_col-md-4'][1]/div/div[2]\").text)\n",
    "    except:\n",
    "        try:\n",
    "            myear.append(driver.find_element_by_xpath(\"//li[@class='gsc_col-xs-6'][1]/div/div\").text)\n",
    "        except:\n",
    "            myear.append(\"NaN\")\n",
    "    try:\n",
    "        fuel.append(driver.find_element_by_xpath(\"//li[@class='gsc_col-xs-6 gsc_col-md-4'][3]/div/div[2]\").text)\n",
    "    except:\n",
    "        try:\n",
    "            fuel.append(driver.find_element_by_xpath(\"//li[@class='gsc_col-xs-6'][5]/div/div\").text)\n",
    "        except:\n",
    "            fuel.append(\"NaN\")\n",
    "    try:\n",
    "        km.append(driver.find_element_by_xpath(\"//li[@class='gsc_col-xs-6 gsc_col-md-4'][4]/div/div[2]\").text)\n",
    "    except:\n",
    "        try:\n",
    "            km.append(driver.find_element_by_xpath(\"//li[@class='gsc_col-xs-6'][3]/div/div\").text)\n",
    "        except:\n",
    "            km.append(\"NaN\")\n",
    "    try:\n",
    "        owner.append(driver.find_element_by_xpath(\"//li[@class='gsc_col-xs-6 gsc_col-md-4'][6]/div/div[2]\").text)\n",
    "    except:\n",
    "        try:\n",
    "            owner.append(driver.find_element_by_xpath(\"//li[@class='gsc_col-xs-6'][4]/div/div\").text)\n",
    "        except:\n",
    "            owner.append(\"NaN\")\n",
    "    try:\n",
    "        transmission.append(driver.find_element_by_xpath(\"//li[@class='gsc_col-xs-6 gsc_col-md-4'][8]/div/div[2]\").text)\n",
    "    except:\n",
    "        try:\n",
    "            transmission.append(driver.find_element_by_xpath(\"//li[@class='gsc_col-xs-6'][6]/div/div\").text)\n",
    "        except:\n",
    "            transmission.append(\"NaN\")\n",
    "    try:\n",
    "        brand.append(driver.find_element_by_xpath(\"//div[@class='gsc_col-xs-12']/h1\").text)\n",
    "    except:\n",
    "        try:\n",
    "            brand.append(driver.find_element_by_xpath(\"//div[@class='vdp-head']/h1[2]\").text)\n",
    "        except:\n",
    "            brand.append(\"NaN\")\n",
    "    try:\n",
    "        model.append(driver.find_element_by_xpath(\"//div[@class='gsc_col-xs-12']/h1\").text)\n",
    "    except:\n",
    "        try:\n",
    "            model.append(driver.find_element_by_xpath(\"//div[@class='vdp-head']/h1[2]\").text)\n",
    "        except:\n",
    "            model.append(\"NaN\")\n",
    "    try:\n",
    "        variant.append(driver.find_element_by_xpath(\"//div[@class='variant-name']\").text)\n",
    "    except:\n",
    "        try:\n",
    "            variant.append(driver.find_element_by_xpath(\"//li[@class='gsc_col-xs-6'][8]/div/div']\").text)\n",
    "        except:\n",
    "            variant.append(\"NaN\")\n",
    "    try:\n",
    "        price.append(driver.find_element_by_xpath(\"//div[@class='priceSection']/span[2]\").text)\n",
    "    except:\n",
    "        try:\n",
    "            price.append(driver.find_element_by_xpath(\"//span[@class='amount']\").text)\n",
    "        except:\n",
    "            price.append(\"NaN\")\n",
    "    try:\n",
    "        st = i\n",
    "        st = st.split(\"_\")\n",
    "        st = st[0]\n",
    "        st = st.split(\"-\")\n",
    "        st = st[len(st)-1]\n",
    "        city.append(st)\n",
    "    except:\n",
    "        city.append(\"NaN\")\n",
    "        "
   ]
  },
  {
   "cell_type": "code",
   "execution_count": null,
   "metadata": {},
   "outputs": [],
   "source": [
    "# saving all the scrapped data"
   ]
  },
  {
   "cell_type": "code",
   "execution_count": 35,
   "metadata": {},
   "outputs": [],
   "source": [
    "fin_df=pd.DataFrame({\n",
    "    'myear':myear,\n",
    "'fuel':fuel,\n",
    "'km':km,\n",
    "'owner':owner,\n",
    "'transmission':transmission,\n",
    "'brand':brand,\n",
    "'model':model,\n",
    "'variant':variant,\n",
    "'price':price,\n",
    "'city':city\n",
    "    \n",
    "})"
   ]
  },
  {
   "cell_type": "code",
   "execution_count": 36,
   "metadata": {},
   "outputs": [],
   "source": [
    "fin_df.to_csv(\"CarPricePrediction.csv\")"
   ]
  },
  {
   "cell_type": "code",
   "execution_count": 32,
   "metadata": {},
   "outputs": [
    {
     "data": {
      "text/plain": [
       "7904"
      ]
     },
     "execution_count": 32,
     "metadata": {},
     "output_type": "execute_result"
    }
   ],
   "source": [
    "len(urls)"
   ]
  },
  {
   "cell_type": "code",
   "execution_count": null,
   "metadata": {},
   "outputs": [],
   "source": []
  },
  {
   "cell_type": "code",
   "execution_count": null,
   "metadata": {},
   "outputs": [],
   "source": []
  },
  {
   "cell_type": "code",
   "execution_count": null,
   "metadata": {},
   "outputs": [],
   "source": []
  },
  {
   "cell_type": "code",
   "execution_count": null,
   "metadata": {},
   "outputs": [],
   "source": []
  }
 ],
 "metadata": {
  "kernelspec": {
   "display_name": "Python 3",
   "language": "python",
   "name": "python3"
  },
  "language_info": {
   "codemirror_mode": {
    "name": "ipython",
    "version": 3
   },
   "file_extension": ".py",
   "mimetype": "text/x-python",
   "name": "python",
   "nbconvert_exporter": "python",
   "pygments_lexer": "ipython3",
   "version": "3.8.5"
  }
 },
 "nbformat": 4,
 "nbformat_minor": 4
}
